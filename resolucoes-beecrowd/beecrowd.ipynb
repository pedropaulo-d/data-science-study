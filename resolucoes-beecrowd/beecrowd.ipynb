{
 "cells": [
  {
   "cell_type": "code",
   "execution_count": 5,
   "metadata": {},
   "outputs": [
    {
     "name": "stdout",
     "output_type": "stream",
     "text": [
      "5.0\n"
     ]
    },
    {
     "data": {
      "text/plain": [
       "int"
      ]
     },
     "execution_count": 5,
     "metadata": {},
     "output_type": "execute_result"
    }
   ],
   "source": [
    "from math import sqrt\n",
    "numero = 25\n",
    "raiz = sqrt(numero)\n",
    "\n",
    "print(raiz)\n",
    "type(numero)"
   ]
  },
  {
   "cell_type": "code",
   "execution_count": 8,
   "metadata": {},
   "outputs": [
    {
     "name": "stdout",
     "output_type": "stream",
     "text": [
      "4.4721\n"
     ]
    }
   ],
   "source": [
    "\"\"\"\n",
    "Leia os quatro valores correspondentes aos eixos x e y de dois pontos quaisquer no plano, p1(x1,y1) e p2(x2,y2) e calcule a distância entre eles, mostrando 4 casas decimais, segundo a fórmula:\n",
    "Entrada\n",
    "O arquivo de entrada contém duas linhas de dados. A primeira linha contém dois valores de ponto flutuante: x1 y1 e a segunda linha contém dois valores de ponto flutuante x2 y2.\n",
    "Saída\n",
    "Calcule e imprima o valor da distância segundo a fórmula fornecida, considerando 4 casas decimais.\n",
    "\"\"\"\n",
    "x1, y1 = input().split()\n",
    "x2, y2 = input().split()\n",
    "\n",
    "x1 = float(x1)\n",
    "y1 = float(y1)\n",
    "x2 = float(x2)\n",
    "y2 = float(y2)\n",
    "\n",
    "calculo_distancia = sqrt(((x2 - x1) ** 2) + ((y2 - y1) ** 2))\n",
    "\n",
    "print(f'{calculo_distancia:.4f}')"
   ]
  },
  {
   "cell_type": "code",
   "execution_count": 9,
   "metadata": {},
   "outputs": [
    {
     "name": "stdout",
     "output_type": "stream",
     "text": [
      "70.833\n"
     ]
    }
   ],
   "source": [
    "\"\"\"\n",
    "Dois carros (X e Y) partem em uma mesma direção. O carro X sai com velocidade constante de 60 Km/h e o carro Y sai com velocidade constante de 90 Km/h.\n",
    "\n",
    "Em uma hora (60 minutos) o carro Y consegue se distanciar 30 quilômetros do carro X, ou seja, consegue se afastar um quilômetro a cada 2 minutos.\n",
    "\n",
    "Leia a distância (em Km) e calcule quanto tempo leva (em minutos) para o carro Y tomar essa distância do outro carro.\n",
    "\"\"\"\n",
    "\n",
    "tempo_gasto_viagem = 10 #int(input()) \n",
    "velocidade_media = 85 #int(input())\n",
    "\n",
    "distancia = tempo_gasto_viagem * velocidade_media\n",
    "litros_gastos = distancia / 12\n",
    "\n",
    "print(f'{litros_gastos:.3f}')"
   ]
  },
  {
   "cell_type": "code",
   "execution_count": 10,
   "metadata": {},
   "outputs": [
    {
     "name": "stdout",
     "output_type": "stream",
     "text": [
      "576\n",
      "5 nota(s) de R$ 100,00\n",
      "1 nota(s) de R$ 50,00\n",
      "1 nota(s) de R$ 20,00\n",
      "0 nota(s) de R$ 10,00\n",
      "1 nota(s) de R$ 5,00\n",
      "0 nota(s) de R$ 2,00\n",
      "1 nota(s) de R$ 1,00\n"
     ]
    }
   ],
   "source": [
    "\"\"\"\n",
    "Leia um valor inteiro. A seguir, calcule o menor número de notas possíveis (cédulas) no qual o valor pode ser decomposto. As notas consideradas são de 100, 50, 20, 10, 5, 2 e 1. A seguir mostre o valor lido e a relação de notas necessárias.\n",
    "Entrada\n",
    "O arquivo de entrada contém um valor inteiro N (0 < N < 1000000).\n",
    "Saída\n",
    "Imprima o valor lido e, em seguida, a quantidade mínima de notas de cada tipo necessárias, conforme o exemplo fornecido. Não esqueça de imprimir o fim de linha após cada linha, caso contrário seu programa apresentará a mensagem: “Presentation Error”.\n",
    "\"\"\"\n",
    "\n",
    "def decompor_valor(valor):\n",
    "    notas = [100, 50, 20, 10, 5, 2, 1]\n",
    "    quantidade_notas = {}\n",
    "\n",
    "    print(valor)  # Imprime o valor lido\n",
    "    \n",
    "    for nota in notas:\n",
    "        quantidade_notas[nota] = valor // nota\n",
    "        valor %= nota\n",
    "\n",
    "    for nota in notas:\n",
    "        print(f\"{quantidade_notas[nota]} nota(s) de R$ {nota},00\")\n",
    "\n",
    "# Leitura do valor de entrada\n",
    "N = int(input(\"Digite um valor inteiro (0 < N < 1000000): \"))\n",
    "\n",
    "# Verificação do valor de entrada\n",
    "if 0 < N < 1000000:\n",
    "    decompor_valor(N)\n",
    "else:\n",
    "    print(\"O valor deve estar entre 1 e 999999.\")\n"
   ]
  },
  {
   "cell_type": "code",
   "execution_count": 16,
   "metadata": {},
   "outputs": [
    {
     "data": {
      "text/plain": [
       "76"
      ]
     },
     "execution_count": 16,
     "metadata": {},
     "output_type": "execute_result"
    }
   ],
   "source": [
    "\"\"\"\n",
    "Leia um valor inteiro, que é o tempo de duração em segundos de um determinado evento em uma fábrica, e informe-o expresso no formato horas:minutos:segundos.\n",
    "Entrada\n",
    "O arquivo de entrada contém um valor inteiro N.\n",
    "Saída\n",
    "Imprima o tempo lido no arquivo de entrada (segundos), convertido para horas:minutos:segundos, conforme exemplo fornecido.\n",
    "\"\"\"\n",
    "\n",
    "def converter_tempo(segundos):\n",
    "    # Calcula o número de horas\n",
    "    horas = segundos // 3600\n",
    "    # Calcula o restante dos segundos após remover as horas\n",
    "    segundos_restantes = segundos % 3600\n",
    "    # Calcula o número de minutos\n",
    "    minutos = segundos_restantes // 60\n",
    "    # Calcula o restante dos segundos após remover os minutos\n",
    "    segundos_restantes = segundos_restantes % 60\n",
    "    \n",
    "    return f\"{horas}:{minutos}:{segundos_restantes}\"\n",
    "\n",
    "# Leitura do valor de entrada\n",
    "tempo_segundos = int(input())\n",
    "\n",
    "# Conversão e impressão do resultado\n",
    "tempo_formatado = converter_tempo(tempo_segundos)\n",
    "print(tempo_formatado)"
   ]
  },
  {
   "cell_type": "code",
   "execution_count": 24,
   "metadata": {},
   "outputs": [
    {
     "name": "stdout",
     "output_type": "stream",
     "text": [
      "5\n",
      "0\n",
      "5\n"
     ]
    }
   ],
   "source": [
    "print(7305 % 365)\n",
    "print(5 // 30)\n",
    "print(5 % 30)"
   ]
  },
  {
   "cell_type": "code",
   "execution_count": 27,
   "metadata": {},
   "outputs": [
    {
     "name": "stdout",
     "output_type": "stream",
     "text": [
      "20 ano(s)\n",
      "0 mes(es)\n",
      "5 dia(s)\n"
     ]
    }
   ],
   "source": [
    "\"\"\"\n",
    "Leia um valor inteiro correspondente à idade de uma pessoa em dias e informe-a em anos, meses e dias\n",
    "Obs.: apenas para facilitar o cálculo, considere todo ano com 365 dias e todo mês com 30 dias. Nos casos de teste nunca haverá uma situação que permite 12 meses e alguns dias, como 360, 363 ou 364. Este é apenas um exercício com objetivo de testar raciocínio matemático simples.\n",
    "Entrada\n",
    "O arquivo de entrada contém um valor inteiro.\n",
    "Saída\n",
    "Imprima a saída conforme exemplo fornecido.\n",
    "\"\"\"\n",
    "\n",
    "def converter_idade(dias):\n",
    "    # Calcular o número de anos\n",
    "    anos = dias // 365\n",
    "    dias_restantes = dias % 365\n",
    "    \n",
    "    # Calcular o número de meses\n",
    "    meses = dias_restantes // 30\n",
    "    dias_restantes = dias_restantes % 30\n",
    "    \n",
    "    # O restante são os dias\n",
    "    return anos, meses, dias_restantes\n",
    "\n",
    "\n",
    "# Conversão e obtenção dos resultados\n",
    "anos, meses, dias = converter_idade(7305)\n",
    "\n",
    "# Impressão do resultado\n",
    "print(f\"{anos} ano(s)\")\n",
    "print(f\"{meses} mes(es)\")\n",
    "print(f\"{dias} dia(s)\")"
   ]
  },
  {
   "cell_type": "code",
   "execution_count": 29,
   "metadata": {},
   "outputs": [
    {
     "name": "stdout",
     "output_type": "stream",
     "text": [
      "NOTAS:\n",
      "4 nota(s) de R$ 100.00\n",
      "1 nota(s) de R$ 50.00\n",
      "0 nota(s) de R$ 20.00\n",
      "0 nota(s) de R$ 10.00\n",
      "1 nota(s) de R$ 5.00\n",
      "1 nota(s) de R$ 2.00\n",
      "MOEDAS:\n",
      "0 moeda(s) de R$ 1.00\n",
      "0 moeda(s) de R$ 0.50\n",
      "0 moeda(s) de R$ 0.25\n",
      "0 moeda(s) de R$ 0.10\n",
      "0 moeda(s) de R$ 0.05\n",
      "0 moeda(s) de R$ 0.01\n"
     ]
    }
   ],
   "source": [
    "\"\"\"\n",
    "Leia um valor de ponto flutuante com duas casas decimais. Este valor representa um valor monetário. A seguir, calcule o menor número de notas e moedas possíveis no qual o valor pode ser decomposto. As notas consideradas são de 100, 50, 20, 10, 5, 2. As moedas possíveis são de 1, 0.50, 0.25, 0.10, 0.05 e 0.01. A seguir mostre a relação de notas necessárias.\n",
    "Entrada\n",
    "O arquivo de entrada contém um valor de ponto flutuante N (0 ≤ N ≤ 1000000.00).\n",
    "Saída\n",
    "Imprima a quantidade mínima de notas e moedas necessárias para trocar o valor inicial, conforme exemplo fornecido.\n",
    "Obs: Utilize ponto (.) para separar a parte decimal.\n",
    "\"\"\"\n",
    "\n",
    "def decompor_valor(valor):\n",
    "    # Converter o valor para centavos para evitar problemas de precisão\n",
    "    centavos = int(round(valor * 100))\n",
    "    \n",
    "    # Definição das notas e moedas em centavos\n",
    "    notas = [10000, 5000, 2000, 1000, 500, 200]\n",
    "    moedas = [100, 50, 25, 10, 5, 1]\n",
    "    \n",
    "    # Dicionários para armazenar a quantidade de cada nota e moeda\n",
    "    quantidade_notas = {}\n",
    "    quantidade_moedas = {}\n",
    "\n",
    "    # Calcular a quantidade de cada nota\n",
    "    for nota in notas:\n",
    "        quantidade_notas[nota] = centavos // nota\n",
    "        centavos %= nota\n",
    "    \n",
    "    # Calcular a quantidade de cada moeda\n",
    "    for moeda in moedas:\n",
    "        quantidade_moedas[moeda] = centavos // moeda\n",
    "        centavos %= moeda\n",
    "\n",
    "    return quantidade_notas, quantidade_moedas\n",
    "\n",
    "# Leitura do valor de entrada\n",
    "valor_monetario = float(input(\"Digite um valor monetário: \"))\n",
    "\n",
    "# Conversão e obtenção dos resultados\n",
    "quantidade_notas, quantidade_moedas = decompor_valor(valor_monetario)\n",
    "\n",
    "# Impressão do resultado\n",
    "print(\"NOTAS:\")\n",
    "for nota in [100, 50, 20, 10, 5, 2]:\n",
    "    print(f\"{quantidade_notas[nota*100]:.0f} nota(s) de R$ {nota:.2f}\")\n",
    "\n",
    "print(\"MOEDAS:\")\n",
    "for moeda in [1, 0.50, 0.25, 0.10, 0.05, 0.01]:\n",
    "    print(f\"{quantidade_moedas[int(moeda*100)]:.0f} moeda(s) de R$ {moeda:.2f}\")\n"
   ]
  }
 ],
 "metadata": {
  "kernelspec": {
   "display_name": "Python 3",
   "language": "python",
   "name": "python3"
  },
  "language_info": {
   "codemirror_mode": {
    "name": "ipython",
    "version": 3
   },
   "file_extension": ".py",
   "mimetype": "text/x-python",
   "name": "python",
   "nbconvert_exporter": "python",
   "pygments_lexer": "ipython3",
   "version": "3.12.4"
  }
 },
 "nbformat": 4,
 "nbformat_minor": 2
}
