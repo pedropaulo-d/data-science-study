{
 "cells": [
  {
   "cell_type": "markdown",
   "metadata": {},
   "source": [
    "### Função Map\n",
    "A função `map()` em Python é uma função que aplica uma determinada função a cada elemento de uma estrutura de dados iterável, como uma lista, tupla ou outro objeto iterável. A função `map()` retorna um objeto que pode ser convertido em outra estrutura de dados, como uma lista, se necessário."
   ]
  },
  {
   "cell_type": "code",
   "execution_count": 1,
   "metadata": {},
   "outputs": [
    {
     "name": "stdout",
     "output_type": "stream",
     "text": [
      "Versão da Linguagem Python Usada Neste Jupyter Notebook: 3.12.0\n"
     ]
    }
   ],
   "source": [
    "# Versão da Linguagem Python\n",
    "from platform import python_version\n",
    "print('Versão da Linguagem Python Usada Neste Jupyter Notebook:', python_version())"
   ]
  },
  {
   "cell_type": "code",
   "execution_count": 2,
   "metadata": {},
   "outputs": [],
   "source": [
    "# Função Python que retorna um número ao quadrado\n",
    "def potencia(x):\n",
    "    return x ** 2"
   ]
  },
  {
   "cell_type": "code",
   "execution_count": 3,
   "metadata": {},
   "outputs": [],
   "source": [
    "numeros = [1, 2, 3, 4, 5]\n",
    "numeros_ao_quadrado = list(map(potencia, numeros))"
   ]
  },
  {
   "cell_type": "code",
   "execution_count": 4,
   "metadata": {},
   "outputs": [
    {
     "name": "stdout",
     "output_type": "stream",
     "text": [
      "[1, 4, 9, 16, 25]\n"
     ]
    }
   ],
   "source": [
    "print(numeros_ao_quadrado)"
   ]
  },
  {
   "cell_type": "code",
   "execution_count": 5,
   "metadata": {},
   "outputs": [
    {
     "data": {
      "text/plain": [
       "[32.0, 72.5, 104.0, 212.0]"
      ]
     },
     "execution_count": 5,
     "metadata": {},
     "output_type": "execute_result"
    }
   ],
   "source": [
    "# Criando duas funções\n",
    "\n",
    "# Função 1 - Recebe uma temperatura como parâmetro e retorna a temperatura em Fahrenheit\n",
    "def fahrenheit(T):\n",
    "    return ((float(9)/5) * T + 32)\n",
    "\n",
    "# Função 2 - Recebe uma temperatura como parâmetro e retorna a temperatura em Celsius\n",
    "def celsius(T):\n",
    "    return (float(5) / 9) * (T - 35)\n",
    "\n",
    "# Criando uma lista\n",
    "temperaturas = [0, 22.5, 40, 100]\n",
    "\n",
    "# Aplicando a função a cada elemento da lista de temperaturas.\n",
    "map(fahrenheit, temperaturas)\n",
    "\n",
    "# Função map() retornando a lista de temperatuas convertidas em Fahrenheit\n",
    "list(map(fahrenheit, temperaturas))"
   ]
  },
  {
   "cell_type": "code",
   "execution_count": 6,
   "metadata": {},
   "outputs": [
    {
     "data": {
      "text/plain": [
       "[-19.444444444444446,\n",
       " -6.944444444444445,\n",
       " 2.7777777777777777,\n",
       " 36.111111111111114]"
      ]
     },
     "execution_count": 6,
     "metadata": {},
     "output_type": "execute_result"
    }
   ],
   "source": [
    "# Convertendo para Celsius\n",
    "list(map(celsius, temperaturas))"
   ]
  },
  {
   "cell_type": "code",
   "execution_count": 7,
   "metadata": {},
   "outputs": [
    {
     "data": {
      "text/plain": [
       "[-17.77777777777778, -5.277777777777778, 4.444444444444445, 37.77777777777778]"
      ]
     },
     "execution_count": 7,
     "metadata": {},
     "output_type": "execute_result"
    }
   ],
   "source": [
    "# Usando expressão lambda\n",
    "list(map(lambda x: (5.0 / 9) * (x - 32), temperaturas))"
   ]
  },
  {
   "cell_type": "code",
   "execution_count": 8,
   "metadata": {},
   "outputs": [
    {
     "data": {
      "text/plain": [
       "[6, 8, 10, 12]"
      ]
     },
     "execution_count": 8,
     "metadata": {},
     "output_type": "execute_result"
    }
   ],
   "source": [
    "# Somando os elementos de 2 listas\n",
    "a = [1, 2, 3, 4]\n",
    "b = [5, 6, 7, 8]\n",
    "\n",
    "list(map(lambda x, y:x + y, a, b))"
   ]
  },
  {
   "cell_type": "code",
   "execution_count": 9,
   "metadata": {},
   "outputs": [
    {
     "data": {
      "text/plain": [
       "[15, 18, 21, 24]"
      ]
     },
     "execution_count": 9,
     "metadata": {},
     "output_type": "execute_result"
    }
   ],
   "source": [
    "# Somando os elemntos de 3 listas\n",
    "a = [1, 2, 3, 4]\n",
    "b = [5, 6, 7, 8]\n",
    "c = [9, 10, 11, 12]\n",
    "\n",
    "list(map(lambda x, y, z : x + y + z, a, b, c))"
   ]
  },
  {
   "cell_type": "markdown",
   "metadata": {},
   "source": [
    "### Função Reduce\n",
    "A função `reduce()` em Python é uma função da biblioteca functools que aplica uma determinada função binária a pares consecutivos de elementos em uma estrutura de dados iterável, como ua lista, tupla ou outro objeto iterável, reduzindo-a  a um único valor."
   ]
  },
  {
   "cell_type": "code",
   "execution_count": 10,
   "metadata": {},
   "outputs": [],
   "source": [
    "# Importando a função reduce do módulo functools\n",
    "from functools import reduce"
   ]
  },
  {
   "cell_type": "code",
   "execution_count": 11,
   "metadata": {},
   "outputs": [
    {
     "data": {
      "text/plain": [
       "113"
      ]
     },
     "execution_count": 11,
     "metadata": {},
     "output_type": "execute_result"
    }
   ],
   "source": [
    "# Criando uma lista\n",
    "lista = [47, 11, 42, 13]\n",
    "\n",
    "# Função de soma\n",
    "def soma(a, b):\n",
    "    x = a + b\n",
    "    return x\n",
    "\n",
    "reduce(soma, lista)"
   ]
  },
  {
   "cell_type": "code",
   "execution_count": 12,
   "metadata": {},
   "outputs": [
    {
     "data": {
      "text/plain": [
       "113"
      ]
     },
     "execution_count": 12,
     "metadata": {},
     "output_type": "execute_result"
    }
   ],
   "source": [
    "# Criando outra lista\n",
    "lst = [47, 11, 42, 13]\n",
    "\n",
    "reduce(lambda x, y: x + y, lst)"
   ]
  },
  {
   "cell_type": "code",
   "execution_count": 13,
   "metadata": {},
   "outputs": [
    {
     "data": {
      "text/plain": [
       "47"
      ]
     },
     "execution_count": 13,
     "metadata": {},
     "output_type": "execute_result"
    }
   ],
   "source": [
    "# Atribuindo a expressão lambda a uma variável\n",
    "\n",
    "max_find2 = lambda a, b: a if (a > b) else b\n",
    "\n",
    "reduce(max_find2, lst)"
   ]
  },
  {
   "cell_type": "markdown",
   "metadata": {},
   "source": [
    "### Função Filter\n",
    "A função `filter()` em Python é uma função que filtra elementos de uma estrutura de dados iterável, como uma lista, tupla ou outro objeto iterável, com base em uma determinada condição. A função `filter()` retorna um objeto filtro, que pode ser convertido em outra estrutura de dados, como uma lista, se necessário."
   ]
  },
  {
   "cell_type": "code",
   "execution_count": 16,
   "metadata": {},
   "outputs": [],
   "source": [
    "# Criando uma função\n",
    "def verificarPar(num):\n",
    "    if num % 2 == 0:\n",
    "        return True\n",
    "    else:\n",
    "        return False\n",
    "\n",
    "lista = [a for a in range(0, 19)]"
   ]
  },
  {
   "cell_type": "code",
   "execution_count": 17,
   "metadata": {},
   "outputs": [
    {
     "data": {
      "text/plain": [
       "[0, 2, 4, 6, 8, 10, 12, 14, 16, 18]"
      ]
     },
     "execution_count": 17,
     "metadata": {},
     "output_type": "execute_result"
    }
   ],
   "source": [
    "# A função filter() retorna um iterator\n",
    "list(filter(verificarPar, lista))"
   ]
  },
  {
   "cell_type": "code",
   "execution_count": 18,
   "metadata": {},
   "outputs": [
    {
     "data": {
      "text/plain": [
       "[0, 2, 4, 6, 8, 10, 12, 14, 16, 18]"
      ]
     },
     "execution_count": 18,
     "metadata": {},
     "output_type": "execute_result"
    }
   ],
   "source": [
    "list(filter(lambda x: x % 2 == 0, lista))"
   ]
  },
  {
   "cell_type": "code",
   "execution_count": 19,
   "metadata": {},
   "outputs": [
    {
     "data": {
      "text/plain": [
       "[9, 10, 11, 12, 13, 14, 15, 16, 17, 18]"
      ]
     },
     "execution_count": 19,
     "metadata": {},
     "output_type": "execute_result"
    }
   ],
   "source": [
    "list(filter(lambda num: num > 8, lista))"
   ]
  },
  {
   "cell_type": "markdown",
   "metadata": {},
   "source": [
    "### Função Zip\n",
    "a função `zip()` em Python é uma função que agrupa elementos de múltiplas estruturas de dados iteráveis, como listas, tuplas ou outros objetos iteráveis, juntos em pares. A função `zip()` retorna um objeto zip, que pode ser convertido em outra estrutura de dados, como uma lista ou dicionário, se necessário."
   ]
  },
  {
   "cell_type": "code",
   "execution_count": 20,
   "metadata": {},
   "outputs": [
    {
     "data": {
      "text/plain": [
       "[(0, 6), (1, 7), (2, 8), (3, 9), (4, 10)]"
      ]
     },
     "execution_count": 20,
     "metadata": {},
     "output_type": "execute_result"
    }
   ],
   "source": [
    "# Criando duas listas\n",
    "x = [a for a in range(0, 6)]\n",
    "y = [b for b in range(6, 11)]\n",
    "\n",
    "# Unindo as duas listas\n",
    "list(zip(x, y))"
   ]
  },
  {
   "cell_type": "code",
   "execution_count": 21,
   "metadata": {},
   "outputs": [
    {
     "data": {
      "text/plain": [
       "[('a', 4), ('b', 5)]"
      ]
     },
     "execution_count": 21,
     "metadata": {},
     "output_type": "execute_result"
    }
   ],
   "source": [
    "# Criando 2 dicionários\n",
    "d1 = {'a': 1, 'b': 2}\n",
    "d2 = {'c': 4, 'd': 5}\n",
    "\n",
    "# Zip pode unir os valores (itens)\n",
    "list(zip(d1, d2.values()))"
   ]
  },
  {
   "cell_type": "code",
   "execution_count": 23,
   "metadata": {},
   "outputs": [
    {
     "data": {
      "text/plain": [
       "{'a': 4, 'b': 5}"
      ]
     },
     "execution_count": 23,
     "metadata": {},
     "output_type": "execute_result"
    }
   ],
   "source": [
    "# Criando uma função para trocar valores entre 2 dicionaŕios\n",
    "def trocaValores(d1, d2):\n",
    "    dicTemp= {}\n",
    "\n",
    "    for d1key, d2val in zip(d1, d2.values()):\n",
    "        dicTemp[d1key] = d2val\n",
    "\n",
    "    return dicTemp\n",
    "\n",
    "trocaValores(d1, d2)"
   ]
  },
  {
   "cell_type": "markdown",
   "metadata": {},
   "source": [
    "### Função Enumerate\n",
    "A função `enumerate()` em Python é uma função que permite iterar sobre uma estrutura de dados, como uma lista, tupla ou outro objeto iterável. A função `enumerate()` retorna um objeto enumerado, que pode ser usado em loops para percorrer a estrutura de dados e acessar o contador e o valor de cada elemento."
   ]
  },
  {
   "cell_type": "code",
   "execution_count": 24,
   "metadata": {},
   "outputs": [
    {
     "data": {
      "text/plain": [
       "[(0, 'a'), (1, 'b'), (2, 'c')]"
      ]
     },
     "execution_count": 24,
     "metadata": {},
     "output_type": "execute_result"
    }
   ],
   "source": [
    "seq = ['a', 'b', 'c']\n",
    "list(enumerate(seq))"
   ]
  },
  {
   "cell_type": "code",
   "execution_count": 25,
   "metadata": {},
   "outputs": [
    {
     "name": "stdout",
     "output_type": "stream",
     "text": [
      "0 a\n",
      "1 b\n",
      "2 c\n"
     ]
    }
   ],
   "source": [
    "# Imprimindo os valores de uma lista com a função enumarate() e seus respectivos índices\n",
    "for indice, valor in enumerate(seq):\n",
    "    print(indice, valor)"
   ]
  },
  {
   "cell_type": "code",
   "execution_count": 26,
   "metadata": {},
   "outputs": [
    {
     "name": "stdout",
     "output_type": "stream",
     "text": [
      "a\n",
      "b\n"
     ]
    }
   ],
   "source": [
    "for indice, valor in enumerate(seq):\n",
    "    if indice >= 2:\n",
    "        break\n",
    "    else:\n",
    "        print(valor)"
   ]
  },
  {
   "cell_type": "code",
   "execution_count": 27,
   "metadata": {},
   "outputs": [
    {
     "name": "stdout",
     "output_type": "stream",
     "text": [
      "0 Marketing\n",
      "1 Tecnologia\n",
      "2 Business\n"
     ]
    }
   ],
   "source": [
    "lista = ['Marketing', 'Tecnologia', 'Business']\n",
    "for i, item in enumerate(lista):\n",
    "    print(i, item)"
   ]
  },
  {
   "cell_type": "code",
   "execution_count": 28,
   "metadata": {},
   "outputs": [
    {
     "name": "stdout",
     "output_type": "stream",
     "text": [
      "0 D\n",
      "1 a\n",
      "2 t\n",
      "3 a\n",
      "4  \n",
      "5 S\n",
      "6 c\n",
      "7 i\n",
      "8 e\n",
      "9 n\n",
      "10 c\n",
      "11 e\n",
      "12  \n",
      "13 A\n",
      "14 c\n",
      "15 a\n",
      "16 d\n",
      "17 e\n",
      "18 m\n",
      "19 y\n"
     ]
    }
   ],
   "source": [
    "for i, item in enumerate('Data Science Academy'):\n",
    "    print(i, item)"
   ]
  },
  {
   "cell_type": "markdown",
   "metadata": {},
   "source": [
    "# FIM"
   ]
  }
 ],
 "metadata": {
  "kernelspec": {
   "display_name": "venv",
   "language": "python",
   "name": "python3"
  },
  "language_info": {
   "codemirror_mode": {
    "name": "ipython",
    "version": 3
   },
   "file_extension": ".py",
   "mimetype": "text/x-python",
   "name": "python",
   "nbconvert_exporter": "python",
   "pygments_lexer": "ipython3",
   "version": "3.12.0"
  }
 },
 "nbformat": 4,
 "nbformat_minor": 2
}
